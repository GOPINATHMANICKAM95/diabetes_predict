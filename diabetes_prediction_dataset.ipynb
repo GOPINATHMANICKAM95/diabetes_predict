{
 "cells": [
  {
   "cell_type": "code",
   "execution_count": 4,
   "metadata": {},
   "outputs": [
    {
     "name": "stderr",
     "output_type": "stream",
     "text": [
      "<>:6: SyntaxWarning: invalid escape sequence '\\P'\n",
      "<>:6: SyntaxWarning: invalid escape sequence '\\P'\n",
      "C:\\Users\\GOPINATH\\AppData\\Local\\Temp\\ipykernel_3980\\3521452582.py:6: SyntaxWarning: invalid escape sequence '\\P'\n",
      "  df = pd.DataFrame(pd.read_csv(\"E:\\Project\\Diabetes\\diabetes_prediction_dataset.csv\"))\n"
     ]
    }
   ],
   "source": [
    "from sklearn.preprocessing import OrdinalEncoder\n",
    "from sklearn.model_selection import train_test_split\n",
    "from sklearn.tree import DecisionTreeClassifier\n",
    "import pandas as pd\n",
    "import pickle\n",
    "df = pd.DataFrame(pd.read_csv(\"E:\\Project\\Diabetes\\diabetes_prediction_dataset.csv\"))\n",
    "\n",
    "df.duplicated().sum()\n",
    "\n",
    "df.drop_duplicates(keep=\"first\",inplace=True)\n",
    "enc = OrdinalEncoder()\n",
    "\n",
    "for i in df.select_dtypes(include = [\"object\"]).columns:\n",
    "    df[i] = enc.fit_transform(df[[i]])\n",
    "\n",
    "x = df.iloc[:,:-1]\n",
    "y = df[\"diabetes\"]\n",
    "\n",
    "x_train,x_test,y_train,y_test = train_test_split(x,y,test_size=0.3)\n",
    "\n",
    "model = DecisionTreeClassifier().fit(x_train,y_train)\n",
    "\n",
    "y_pred =model.predict(x_test)\n",
    "\n",
    "\n",
    "pickle.dump(model,open(\"dia.pkl\",\"wb\"))\n"
   ]
  },
  {
   "cell_type": "markdown",
   "metadata": {},
   "source": []
  }
 ],
 "metadata": {
  "kernelspec": {
   "display_name": "Python 3",
   "language": "python",
   "name": "python3"
  },
  "language_info": {
   "codemirror_mode": {
    "name": "ipython",
    "version": 3
   },
   "file_extension": ".py",
   "mimetype": "text/x-python",
   "name": "python",
   "nbconvert_exporter": "python",
   "pygments_lexer": "ipython3",
   "version": "3.12.4"
  }
 },
 "nbformat": 4,
 "nbformat_minor": 2
}
